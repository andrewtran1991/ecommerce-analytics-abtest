{
  "cells": [
    {
      "cell_type": "markdown",
      "metadata": {},
      "source": [
        "# 🔬 Causal Inference & Endogeneity Analysis\n",
        "\n",
        "## 🎯 Learning Objectives\n",
        "This template explores **causal inference** and **endogeneity issues** in marketing analytics. You'll learn to:\n",
        "\n",
        "- Identify and address endogeneity problems in observational data\n",
        "- Apply causal inference methods (propensity score matching, instrumental variables)\n",
        "- Test for heterogeneous treatment effects across customer segments\n",
        "- Build causal models that go beyond correlation\n",
        "\n",
        "## 📚 Key Concepts Covered\n",
        "- **Endogeneity**: When treatment assignment is not random\n",
        "- **Propensity Score Matching**: Balancing treated vs. untreated groups\n",
        "- **Instrumental Variables**: Using exogenous variation to identify causal effects\n",
        "- **Heterogeneous Treatment Effects**: Different effects for different customer segments\n",
        "- **Causal Forests**: Machine learning for causal inference\n",
        "\n",
        "---\n"
      ]
    },
    {
      "cell_type": "markdown",
      "metadata": {},
      "source": [
        "## 1. Setup & Data Preparation\n"
      ]
    },
    {
      "cell_type": "code",
      "execution_count": null,
      "metadata": {},
      "outputs": [],
      "source": [
        "import pandas as pd\n",
        "import numpy as np\n",
        "import matplotlib.pyplot as plt\n",
        "import seaborn as sns\n",
        "from pathlib import Path\n",
        "import warnings\n",
        "warnings.filterwarnings('ignore')\n",
        "\n",
        "# Causal inference libraries\n",
        "from sklearn.linear_model import LogisticRegression\n",
        "from sklearn.ensemble import RandomForestRegressor\n",
        "from sklearn.preprocessing import StandardScaler\n",
        "from sklearn.model_selection import train_test_split\n",
        "from sklearn.metrics import mean_squared_error, r2_score\n",
        "import statsmodels.api as sm\n",
        "from statsmodels.stats.outliers_influence import variance_inflation_factor\n",
        "\n",
        "# Load data\n",
        "DATA = Path(\"../data\")\n",
        "transactions = pd.read_csv(DATA/\"transactions.csv\", parse_dates=['date'])\n",
        "users = pd.read_csv(DATA/\"users.csv\")\n",
        "products = pd.read_csv(DATA/\"products.csv\")\n",
        "rfm = pd.read_csv(DATA/\"user_rfm.csv\")\n",
        "\n",
        "print(\"✅ Data loaded successfully!\")\n",
        "print(f\"📊 Transactions: {len(transactions)} records\")\n",
        "print(f\"👥 Users: {len(users)} customers\")\n"
      ]
    }
  ],
  "metadata": {
    "language_info": {
      "name": "python"
    }
  },
  "nbformat": 4,
  "nbformat_minor": 2
}
