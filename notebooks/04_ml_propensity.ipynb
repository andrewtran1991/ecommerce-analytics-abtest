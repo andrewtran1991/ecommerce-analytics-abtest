{
  "cells": [
    {
      "cell_type": "markdown",
      "metadata": {},
      "source": [
        "# 04 · Purchase Propensity Model\n",
        "Logistic regression baseline with RFM + AOV features."
      ]
    },
    {
      "cell_type": "code",
      "metadata": {},
      "execution_count": null,
      "outputs": [],
      "source": [
        "import pandas as pd\n",
        "from pathlib import Path\n",
        "from sklearn.model_selection import train_test_split\n",
        "from sklearn.preprocessing import StandardScaler\n",
        "from sklearn.pipeline import Pipeline\n",
        "from sklearn.linear_model import LogisticRegression\n",
        "from sklearn.metrics import roc_auc_score, average_precision_score, brier_score_loss\n",
        "\n",
        "DATA = Path(\"../data\")\n",
        "tx = pd.read_csv(DATA/\"transactions.csv\", parse_dates=[\"date\"])\n",
        "rfm = pd.read_csv(DATA/\"user_rfm.csv\")\n",
        "\n",
        "last_date = tx[\"date\"].max()\n",
        "horizon_start = last_date - pd.Timedelta(days=28)\n",
        "future_start = last_date - pd.Timedelta(days=14)\n",
        "\n",
        "base = (tx[(tx[\"date\"]>=horizon_start) & (tx[\"date\"]<=last_date)]\n",
        "        .groupby(\"user_id\").agg(aov=(\"line_revenue\",\"mean\")).reset_index().fillna({\"aov\":0.0}))\n",
        "future_users = tx[tx[\"date\"]>future_start][\"user_id\"].unique()\n",
        "\n",
        "X = rfm.merge(base, on=\"user_id\", how=\"left\").fillna({\"aov\":0.0})\n",
        "y = X[\"user_id\"].isin(future_users).astype(int)\n",
        "\n",
        "features = [\"recency_days\",\"frequency\",\"monetary\",\"aov\"]\n",
        "X_train, X_test, y_train, y_test = train_test_split(X[features], y, test_size=0.25, random_state=42, stratify=y)\n",
        "\n",
        "pipe = Pipeline([\n",
        "    (\"scaler\", StandardScaler()),\n",
        "    (\"clf\", LogisticRegression(max_iter=500))\n",
        "])\n",
        "pipe.fit(X_train, y_train)\n",
        "proba = pipe.predict_proba(X_test)[:,1]\n",
        "\n",
        "print({\n",
        "    \"roc_auc\": float(roc_auc_score(y_test, proba)),\n",
        "    \"pr_auc\": float(average_precision_score(y_test, proba)),\n",
        "    \"brier\": float(brier_score_loss(y_test, proba))\n",
        "})"
      ]
    }
  ],
  "metadata": {
    "kernelspec": {
      "display_name": "Python 3",
      "language": "python",
      "name": "python3"
    },
    "language_info": {
      "name": "python",
      "version": "3.x"
    }
  },
  "nbformat": 4,
  "nbformat_minor": 5
}