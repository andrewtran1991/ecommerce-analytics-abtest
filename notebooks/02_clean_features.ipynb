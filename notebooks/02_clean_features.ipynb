{
  "cells": [
    {
      "cell_type": "markdown",
      "metadata": {},
      "source": [
        "# 02 · Cleaning & Feature Engineering\n",
        "Normalize JSON, build transactions and RFM features."
      ]
    },
    {
      "cell_type": "code",
      "execution_count": null,
      "metadata": {},
      "outputs": [
        {
          "name": "stdout",
          "output_type": "stream",
          "text": [
            "Saved transactions.csv, users.csv, user_rfm.csv in ../data\n"
          ]
        }
      ],
      "source": [
        "import pandas as pd, numpy as np, json, pathlib\n",
        "\n",
        "\n",
        "DATA = pathlib.Path(\"../data\")\n",
        "products = pd.read_csv(DATA/\"products.csv\")\n",
        "users = pd.read_csv(DATA/\"users_raw.csv\")\n",
        "carts = pd.read_csv(DATA/\"carts_raw.csv\")\n",
        "categories = pd.read_csv(DATA/\"categories.csv\")\n",
        "\n",
        "## Summary statistics\n",
        "## Normalize, data structure, missing values, outliers, duplicates, distributions \n",
        "## EDA: distributions, correlations, trends, patterns, anomalies\n",
        "## Feature engineering: RFM, customer segments, product categories, time-based features\n",
        "## Data quality: missing values, duplicates, inconsistencies, outliers\n",
        "## Documentation: data dictionary, code comments, README"
      ]
    },
    {
      "cell_type": "markdown",
      "id": "7ac2cc2e",
      "metadata": {},
      "source": [
        "## 2.1. Data Cleaning"
      ]
    },
    {
      "cell_type": "code",
      "execution_count": 10,
      "id": "ccd47b67",
      "metadata": {},
      "outputs": [],
      "source": [
        "# Define outlier detection function IQR method\n",
        "def detect_outliers_iqr(data, column):\n",
        "    Q1 = data[column].quantile(0.25)\n",
        "    Q3 = data[column].quantile(0.75)\n",
        "    IQR = Q3 - Q1\n",
        "    lower_bound = Q1 - 1.5 * IQR\n",
        "    upper_bound = Q3 + 1.5 * IQR\n",
        "    outliers = data[(data[column] < lower_bound) | (data[column] > upper_bound)]\n",
        "    return outliers"
      ]
    },
    {
      "cell_type": "markdown",
      "id": "d0977625",
      "metadata": {},
      "source": [
        "### 2.1.1. Clean 'Users' Table"
      ]
    },
    {
      "cell_type": "code",
      "execution_count": 13,
      "id": "53da37cd",
      "metadata": {},
      "outputs": [
        {
          "name": "stdout",
          "output_type": "stream",
          "text": [
            "<class 'pandas.core.frame.DataFrame'>\n",
            "RangeIndex: 10 entries, 0 to 9\n",
            "Data columns (total 7 columns):\n",
            " #   Column     Non-Null Count  Dtype \n",
            "---  ------     --------------  ----- \n",
            " 0   user_id    10 non-null     int64 \n",
            " 1   email      10 non-null     object\n",
            " 2   username   10 non-null     object\n",
            " 3   firstname  10 non-null     object\n",
            " 4   lastname   10 non-null     object\n",
            " 5   city       10 non-null     object\n",
            " 6   zipcode    10 non-null     object\n",
            "dtypes: int64(1), object(6)\n",
            "memory usage: 692.0+ bytes\n",
            "user_id      0\n",
            "email        0\n",
            "username     0\n",
            "firstname    0\n",
            "lastname     0\n",
            "city         0\n",
            "zipcode      0\n",
            "dtype: int64\n",
            "        user_id\n",
            "count  10.00000\n",
            "mean    5.50000\n",
            "std     3.02765\n",
            "min     1.00000\n",
            "25%     3.25000\n",
            "50%     5.50000\n",
            "75%     7.75000\n",
            "max    10.00000\n",
            "Saved transactions.csv, users.csv, user_rfm.csv in ../data\n"
          ]
        }
      ],
      "source": [
        "# Normalize users (handles JSON-like strings)\n",
        "def safe_to_json(x):\n",
        "    if isinstance(x, str):\n",
        "        try:\n",
        "            return json.loads(x.replace(\"'\", '\"'))\n",
        "        except Exception:\n",
        "            return None\n",
        "    return x if isinstance(x, dict) else None\n",
        "\n",
        "users_name = users[\"name\"].apply(safe_to_json)\n",
        "users_addr = users[\"address\"].apply(safe_to_json)\n",
        "\n",
        "users_clean = pd.DataFrame({\n",
        "    \"user_id\": users[\"id\"],\n",
        "    \"email\": users.get(\"email\", pd.Series([None]*len(users))),\n",
        "    \"username\": users.get(\"username\", pd.Series([None]*len(users))),\n",
        "    \"firstname\": users_name.apply(lambda d: d.get(\"firstname\") if isinstance(d, dict) else None),\n",
        "    \"lastname\": users_name.apply(lambda d: d.get(\"lastname\") if isinstance(d, dict) else None),\n",
        "    \"city\": users_addr.apply(lambda d: d.get(\"city\") if isinstance(d, dict) else None),\n",
        "    \"zipcode\": users_addr.apply(lambda d: d.get(\"zipcode\") if isinstance(d, dict) else None),\n",
        "})\n",
        "\n",
        "# Check data types, missing values, basic stats\n",
        "users_clean.info()\n",
        "print(users_clean.isnull().sum())\n",
        "print(users_clean.select_dtypes(include=[np.number]).describe())  \n",
        "\n",
        "# Clean 'city' column: title case, strip whitespace\n",
        "users_clean['city'] = users_clean['city'].str.title().str.strip()\n",
        "users_clean['city'].value_counts().head(10)\n",
        "\n",
        "# Save curated\n",
        "users_clean.to_csv(DATA/\"users.csv\", index=False)\n",
        "print(\"Saved transactions.csv, users.csv, user_rfm.csv in\", DATA)"
      ]
    },
    {
      "cell_type": "markdown",
      "id": "314fedec",
      "metadata": {},
      "source": [
        "### 2.1.2. Create & Clean 'Transactions' Table"
      ]
    },
    {
      "cell_type": "code",
      "execution_count": 15,
      "id": "151f42fb",
      "metadata": {},
      "outputs": [],
      "source": [
        "# Explode carts -> transaction lines\n",
        "carts[\"date\"] = pd.to_datetime(carts[\"date\"], errors=\"coerce\")\n",
        "lines = []\n",
        "for _, row in carts.iterrows():\n",
        "    prods = safe_to_json(row[\"products\"])\n",
        "    if isinstance(prods, list):\n",
        "        for it in prods:\n",
        "            lines.append({\n",
        "                \"cart_id\": row[\"id\"],\n",
        "                \"user_id\": row[\"userId\"],\n",
        "                \"date\": row[\"date\"],\n",
        "                \"product_id\": it.get(\"productId\"),\n",
        "                \"quantity\": it.get(\"quantity\", 1)\n",
        "            })\n",
        "tx = pd.DataFrame(lines)\n",
        "\n",
        "# Join price & compute revenue\n",
        "tx = tx.merge(products[[\"id\",\"title\",\"category\",\"price\"]], left_on=\"product_id\", right_on=\"id\", how=\"left\")\n",
        "tx[\"line_revenue\"] = tx[\"quantity\"] * tx[\"price\"]\n",
        "tx = tx.drop(columns=[\"id\"]).sort_values(\"date\")"
      ]
    },
    {
      "cell_type": "code",
      "execution_count": 17,
      "id": "e3cf0404",
      "metadata": {},
      "outputs": [
        {
          "name": "stdout",
          "output_type": "stream",
          "text": [
            "<class 'pandas.core.frame.DataFrame'>\n",
            "Index: 14 entries, 8 to 2\n",
            "Data columns (total 9 columns):\n",
            " #   Column        Non-Null Count  Dtype              \n",
            "---  ------        --------------  -----              \n",
            " 0   cart_id       14 non-null     int64              \n",
            " 1   user_id       14 non-null     int64              \n",
            " 2   date          14 non-null     datetime64[ns, UTC]\n",
            " 3   product_id    14 non-null     int64              \n",
            " 4   quantity      14 non-null     int64              \n",
            " 5   title         14 non-null     object             \n",
            " 6   category      14 non-null     object             \n",
            " 7   price         14 non-null     float64            \n",
            " 8   line_revenue  14 non-null     float64            \n",
            "dtypes: datetime64[ns, UTC](1), float64(2), int64(4), object(2)\n",
            "memory usage: 1.1+ KB\n",
            "cart_id         0\n",
            "user_id         0\n",
            "date            0\n",
            "product_id      0\n",
            "quantity        0\n",
            "title           0\n",
            "category        0\n",
            "price           0\n",
            "line_revenue    0\n",
            "dtype: int64\n"
          ]
        }
      ],
      "source": [
        "# Check data types, missing values, basic stats\n",
        "tx.info()\n",
        "print(tx.isna().sum()) "
      ]
    },
    {
      "cell_type": "code",
      "execution_count": null,
      "id": "873ca0cd",
      "metadata": {},
      "outputs": [
        {
          "name": "stdout",
          "output_type": "stream",
          "text": [
            "         cart_id    user_id  product_id   quantity       price  line_revenue\n",
            "count  14.000000  14.000000   14.000000  14.000000   14.000000     14.000000\n",
            "mean    3.428571   2.500000    5.714286   3.000000  110.944286    335.090714\n",
            "std     2.064882   1.951331    5.195095   2.541956  173.754953    420.111207\n",
            "min     1.000000   1.000000    1.000000   1.000000    9.850000      9.850000\n",
            "25%     2.000000   1.000000    1.250000   1.000000   22.300000     32.725000\n",
            "50%     3.000000   2.000000    4.000000   2.000000   86.500000    218.950000\n",
            "75%     5.000000   3.000000    8.750000   4.000000  109.950000    415.350000\n",
            "max     7.000000   8.000000   18.000000  10.000000  695.000000   1390.000000\n"
          ]
        }
      ],
      "source": [
        "# Summary statistics for numeric columns\n",
        "print(tx.select_dtypes(include=[np.number]).describe())"
      ]
    },
    {
      "cell_type": "code",
      "execution_count": 33,
      "id": "b7288b8d",
      "metadata": {},
      "outputs": [
        {
          "name": "stdout",
          "output_type": "stream",
          "text": [
            "Outliers detected in 'user_id':\n",
            "    cart_id  user_id                      date  product_id  quantity  \\\n",
            "13        7        8 2020-03-01 00:00:00+00:00          18         1   \n",
            "\n",
            "                                          title          category  price  \\\n",
            "13  MBJ Women's Solid Short Sleeve Boat Neck V   women's clothing   9.85   \n",
            "\n",
            "    line_revenue  \n",
            "13          9.85  \n",
            "Outliers detected in 'quantity':\n",
            "   cart_id  user_id                      date  product_id  quantity  \\\n",
            "4        2        1 2020-01-02 00:00:00+00:00           1        10   \n",
            "\n",
            "                                               title        category   price  \\\n",
            "4  Fjallraven - Foldsack No. 1 Backpack, Fits 15 ...  men's clothing  109.95   \n",
            "\n",
            "   line_revenue  \n",
            "4        1099.5  \n",
            "Outliers detected in 'price':\n",
            "   cart_id  user_id                      date  product_id  quantity  \\\n",
            "5        2        1 2020-01-02 00:00:00+00:00           5         2   \n",
            "\n",
            "                                               title  category  price  \\\n",
            "5  John Hardy Women's Legends Naga Gold & Silver ...  jewelery  695.0   \n",
            "\n",
            "   line_revenue  \n",
            "5        1390.0  \n",
            "Outliers detected in 'line_revenue':\n",
            "   cart_id  user_id                      date  product_id  quantity  \\\n",
            "4        2        1 2020-01-02 00:00:00+00:00           1        10   \n",
            "5        2        1 2020-01-02 00:00:00+00:00           5         2   \n",
            "\n",
            "                                               title        category   price  \\\n",
            "4  Fjallraven - Foldsack No. 1 Backpack, Fits 15 ...  men's clothing  109.95   \n",
            "5  John Hardy Women's Legends Naga Gold & Silver ...        jewelery  695.00   \n",
            "\n",
            "   line_revenue  \n",
            "4        1099.5  \n",
            "5        1390.0  \n"
          ]
        }
      ],
      "source": [
        "# Detect outliers\n",
        "for column in tx.select_dtypes(include=[np.number]).columns:\n",
        "    outliers = detect_outliers_iqr(tx, column)\n",
        "    if not outliers.empty:\n",
        "        print(f\"Outliers detected in '{column}':\")\n",
        "        print(outliers)\n",
        "\n",
        "# Since the outliers are valid (e.g. high-value purchases), we keep them for analysis\n",
        "\n",
        "# Save curated\n",
        "tx.to_csv(DATA/\"transactions.csv\", index=False)"
      ]
    },
    {
      "cell_type": "markdown",
      "id": "05c08a4a",
      "metadata": {},
      "source": [
        "### 2.1.3. Clean 'Products' table"
      ]
    },
    {
      "cell_type": "code",
      "execution_count": 39,
      "id": "29113c03",
      "metadata": {},
      "outputs": [
        {
          "name": "stdout",
          "output_type": "stream",
          "text": [
            "<class 'pandas.core.frame.DataFrame'>\n",
            "RangeIndex: 20 entries, 0 to 19\n",
            "Data columns (total 7 columns):\n",
            " #   Column       Non-Null Count  Dtype  \n",
            "---  ------       --------------  -----  \n",
            " 0   id           20 non-null     int64  \n",
            " 1   title        20 non-null     object \n",
            " 2   price        20 non-null     float64\n",
            " 3   description  20 non-null     object \n",
            " 4   category     20 non-null     object \n",
            " 5   image        20 non-null     object \n",
            " 6   rating       20 non-null     object \n",
            "dtypes: float64(1), int64(1), object(5)\n",
            "memory usage: 1.2+ KB\n",
            "id             0\n",
            "title          0\n",
            "price          0\n",
            "description    0\n",
            "category       0\n",
            "image          0\n",
            "rating         0\n",
            "dtype: int64\n"
          ]
        }
      ],
      "source": [
        "# Check products table data types, missing values\n",
        "products.info()\n",
        "print(products.isna().sum())"
      ]
    },
    {
      "cell_type": "code",
      "execution_count": 41,
      "id": "093dc149",
      "metadata": {},
      "outputs": [
        {
          "data": {
            "text/html": [
              "<div>\n",
              "<style scoped>\n",
              "    .dataframe tbody tr th:only-of-type {\n",
              "        vertical-align: middle;\n",
              "    }\n",
              "\n",
              "    .dataframe tbody tr th {\n",
              "        vertical-align: top;\n",
              "    }\n",
              "\n",
              "    .dataframe thead th {\n",
              "        text-align: right;\n",
              "    }\n",
              "</style>\n",
              "<table border=\"1\" class=\"dataframe\">\n",
              "  <thead>\n",
              "    <tr style=\"text-align: right;\">\n",
              "      <th></th>\n",
              "      <th>id</th>\n",
              "      <th>title</th>\n",
              "      <th>price</th>\n",
              "      <th>description</th>\n",
              "      <th>category</th>\n",
              "      <th>image</th>\n",
              "      <th>rating_rate</th>\n",
              "      <th>rating_count</th>\n",
              "    </tr>\n",
              "  </thead>\n",
              "  <tbody>\n",
              "    <tr>\n",
              "      <th>0</th>\n",
              "      <td>1</td>\n",
              "      <td>Fjallraven - Foldsack No. 1 Backpack, Fits 15 ...</td>\n",
              "      <td>109.95</td>\n",
              "      <td>Your perfect pack for everyday use and walks i...</td>\n",
              "      <td>men's clothing</td>\n",
              "      <td>https://fakestoreapi.com/img/81fPKd-2AYL._AC_S...</td>\n",
              "      <td>3.9</td>\n",
              "      <td>120</td>\n",
              "    </tr>\n",
              "    <tr>\n",
              "      <th>1</th>\n",
              "      <td>2</td>\n",
              "      <td>Mens Casual Premium Slim Fit T-Shirts</td>\n",
              "      <td>22.30</td>\n",
              "      <td>Slim-fitting style, contrast raglan long sleev...</td>\n",
              "      <td>men's clothing</td>\n",
              "      <td>https://fakestoreapi.com/img/71-3HjGNDUL._AC_S...</td>\n",
              "      <td>4.1</td>\n",
              "      <td>259</td>\n",
              "    </tr>\n",
              "    <tr>\n",
              "      <th>2</th>\n",
              "      <td>3</td>\n",
              "      <td>Mens Cotton Jacket</td>\n",
              "      <td>55.99</td>\n",
              "      <td>great outerwear jackets for Spring/Autumn/Wint...</td>\n",
              "      <td>men's clothing</td>\n",
              "      <td>https://fakestoreapi.com/img/71li-ujtlUL._AC_U...</td>\n",
              "      <td>4.7</td>\n",
              "      <td>500</td>\n",
              "    </tr>\n",
              "    <tr>\n",
              "      <th>3</th>\n",
              "      <td>4</td>\n",
              "      <td>Mens Casual Slim Fit</td>\n",
              "      <td>15.99</td>\n",
              "      <td>The color could be slightly different between ...</td>\n",
              "      <td>men's clothing</td>\n",
              "      <td>https://fakestoreapi.com/img/71YXzeOuslL._AC_U...</td>\n",
              "      <td>2.1</td>\n",
              "      <td>430</td>\n",
              "    </tr>\n",
              "    <tr>\n",
              "      <th>4</th>\n",
              "      <td>5</td>\n",
              "      <td>John Hardy Women's Legends Naga Gold &amp; Silver ...</td>\n",
              "      <td>695.00</td>\n",
              "      <td>From our Legends Collection, the Naga was insp...</td>\n",
              "      <td>jewelery</td>\n",
              "      <td>https://fakestoreapi.com/img/71pWzhdJNwL._AC_U...</td>\n",
              "      <td>4.6</td>\n",
              "      <td>400</td>\n",
              "    </tr>\n",
              "  </tbody>\n",
              "</table>\n",
              "</div>"
            ],
            "text/plain": [
              "   id                                              title   price  \\\n",
              "0   1  Fjallraven - Foldsack No. 1 Backpack, Fits 15 ...  109.95   \n",
              "1   2             Mens Casual Premium Slim Fit T-Shirts    22.30   \n",
              "2   3                                 Mens Cotton Jacket   55.99   \n",
              "3   4                               Mens Casual Slim Fit   15.99   \n",
              "4   5  John Hardy Women's Legends Naga Gold & Silver ...  695.00   \n",
              "\n",
              "                                         description        category  \\\n",
              "0  Your perfect pack for everyday use and walks i...  men's clothing   \n",
              "1  Slim-fitting style, contrast raglan long sleev...  men's clothing   \n",
              "2  great outerwear jackets for Spring/Autumn/Wint...  men's clothing   \n",
              "3  The color could be slightly different between ...  men's clothing   \n",
              "4  From our Legends Collection, the Naga was insp...        jewelery   \n",
              "\n",
              "                                               image  rating_rate  \\\n",
              "0  https://fakestoreapi.com/img/81fPKd-2AYL._AC_S...          3.9   \n",
              "1  https://fakestoreapi.com/img/71-3HjGNDUL._AC_S...          4.1   \n",
              "2  https://fakestoreapi.com/img/71li-ujtlUL._AC_U...          4.7   \n",
              "3  https://fakestoreapi.com/img/71YXzeOuslL._AC_U...          2.1   \n",
              "4  https://fakestoreapi.com/img/71pWzhdJNwL._AC_U...          4.6   \n",
              "\n",
              "   rating_count  \n",
              "0           120  \n",
              "1           259  \n",
              "2           500  \n",
              "3           430  \n",
              "4           400  "
            ]
          },
          "execution_count": 41,
          "metadata": {},
          "output_type": "execute_result"
        }
      ],
      "source": [
        "# Explode 'rating' column into two separate columns (rate, count)\n",
        "products[\"rating\"] = products[\"rating\"].apply(safe_to_json)\n",
        "products[\"rating_rate\"] = products[\"rating\"].apply(lambda d: d.get(\"rate\") if isinstance(d, dict) else None)\n",
        "products[\"rating_count\"] = products[\"rating\"].apply(lambda d: d.get(\"count\") if isinstance(d, dict) else None)\n",
        "products.drop(columns=[\"rating\"], inplace=True)\n",
        "products.head() "
      ]
    },
    {
      "cell_type": "code",
      "execution_count": 42,
      "id": "909a5797",
      "metadata": {},
      "outputs": [
        {
          "name": "stdout",
          "output_type": "stream",
          "text": [
            "             id       price  rating_rate  rating_count\n",
            "count  20.00000   20.000000    20.000000     20.000000\n",
            "mean   10.50000  162.046000     3.560000    286.800000\n",
            "std     5.91608  272.220532     0.961578    162.751538\n",
            "min     1.00000    7.950000     1.900000     70.000000\n",
            "25%     5.75000   15.240000     2.900000    143.750000\n",
            "50%    10.50000   56.490000     3.700000    254.500000\n",
            "75%    15.25000  110.962500     4.525000    400.000000\n",
            "max    20.00000  999.990000     4.800000    679.000000\n"
          ]
        }
      ],
      "source": [
        "# Summary statistics for numeric columns\n",
        "print(products.select_dtypes(include=[np.number]).describe())"
      ]
    },
    {
      "cell_type": "code",
      "execution_count": 49,
      "id": "0367b694",
      "metadata": {},
      "outputs": [
        {
          "name": "stdout",
          "output_type": "stream",
          "text": [
            "Outliers detected in 'price':\n",
            "    id                                              title   price  \\\n",
            "4    5  John Hardy Women's Legends Naga Gold & Silver ...  695.00   \n",
            "12  13  Acer SB220Q bi 21.5 inches Full HD (1920 x 108...  599.00   \n",
            "13  14  Samsung 49-Inch CHG90 144Hz Curved Gaming Moni...  999.99   \n",
            "\n",
            "                                          description     category  \\\n",
            "4   From our Legends Collection, the Naga was insp...     jewelery   \n",
            "12  21. 5 inches Full HD (1920 x 1080) widescreen ...  electronics   \n",
            "13  49 INCH SUPER ULTRAWIDE 32:9 CURVED GAMING MON...  electronics   \n",
            "\n",
            "                                                image  rating_rate  \\\n",
            "4   https://fakestoreapi.com/img/71pWzhdJNwL._AC_U...          4.6   \n",
            "12  https://fakestoreapi.com/img/81QpkIctqPL._AC_S...          2.9   \n",
            "13  https://fakestoreapi.com/img/81Zt42ioCgL._AC_S...          2.2   \n",
            "\n",
            "    rating_count  \n",
            "4            400  \n",
            "12           250  \n",
            "13           140  \n",
            "Saved transactions.csv in ../data\n"
          ]
        }
      ],
      "source": [
        "# Check for outliers\n",
        "for column in products.select_dtypes(include=[np.number]).columns:\n",
        "    outliers = detect_outliers_iqr(products, column)\n",
        "    if not outliers.empty:\n",
        "        print(f\"Outliers detected in '{column}':\")\n",
        "        print(outliers)\n",
        "\n",
        "# Since the outliers are valid (e.g. high-priced products), we keep them for analysis\n",
        "\n",
        "# Save curated\n",
        "products.to_csv(DATA/\"products.csv\", index=False)\n",
        "print(\"Saved transactions.csv in\", DATA)"
      ]
    },
    {
      "cell_type": "markdown",
      "id": "423531d7",
      "metadata": {},
      "source": [
        "### 2.1.4. Create 'RFM' Table"
      ]
    },
    {
      "cell_type": "code",
      "execution_count": 50,
      "id": "f85a50db",
      "metadata": {},
      "outputs": [
        {
          "name": "stdout",
          "output_type": "stream",
          "text": [
            "Saved transactions.csv, users.csv, user_rfm.csv in ../data\n"
          ]
        }
      ],
      "source": [
        "# RFM - Recency, Frequency, Monetary\n",
        "# Recency: days since last purchase\n",
        "# Frequency: number of unique carts (orders)\n",
        "# Monetary: total revenue\n",
        "rfm = (tx.groupby(\"user_id\")\n",
        "         .agg(last_purchase=(\"date\",\"max\"),\n",
        "              frequency=(\"cart_id\",\"nunique\"),\n",
        "              monetary=(\"line_revenue\",\"sum\"))\n",
        "         .reset_index())\n",
        "rfm[\"recency_days\"] = (tx[\"date\"].max() - rfm[\"last_purchase\"]).dt.days\n",
        "rfm = rfm.drop(columns=[\"last_purchase\"])\n",
        "\n",
        "\n",
        "rfm.to_csv(DATA/\"user_rfm.csv\", index=False)\n",
        "print(\"Saved transactions.csv, users.csv, user_rfm.csv in\", DATA)"
      ]
    },
    {
      "cell_type": "code",
      "execution_count": null,
      "id": "807e9ff7",
      "metadata": {},
      "outputs": [
        {
          "name": "stdout",
          "output_type": "stream",
          "text": [
            "<class 'pandas.core.frame.DataFrame'>\n",
            "RangeIndex: 5 entries, 0 to 4\n",
            "Data columns (total 4 columns):\n",
            " #   Column        Non-Null Count  Dtype  \n",
            "---  ------        --------------  -----  \n",
            " 0   user_id       5 non-null      int64  \n",
            " 1   frequency     5 non-null      int64  \n",
            " 2   monetary      5 non-null      float64\n",
            " 3   recency_days  5 non-null      int64  \n",
            "dtypes: float64(1), int64(3)\n",
            "memory usage: 292.0 bytes\n",
            "user_id         0\n",
            "frequency       0\n",
            "monetary        0\n",
            "recency_days    0\n",
            "dtype: int64\n",
            "        user_id  frequency     monetary  recency_days\n",
            "count  5.000000   5.000000     5.000000      5.000000\n",
            "mean   3.600000   1.400000   938.254000      0.800000\n",
            "std    2.701851   0.547723  1379.074384      0.447214\n",
            "min    1.000000   1.000000     9.850000      0.000000\n",
            "25%    2.000000   1.000000   283.900000      1.000000\n",
            "50%    3.000000   1.000000   460.780000      1.000000\n",
            "75%    4.000000   2.000000   560.000000      1.000000\n",
            "max    8.000000   2.000000  3376.740000      1.000000\n"
          ]
        }
      ],
      "source": [
        "# Check RFM table data types, missing values, basic stats\n",
        "rfm.info()\n",
        "print(rfm.isna().sum())   \n",
        "print(rfm.select_dtypes(include=[np.number]).describe())  "
      ]
    },
    {
      "cell_type": "code",
      "execution_count": 54,
      "id": "e5768647",
      "metadata": {},
      "outputs": [
        {
          "name": "stdout",
          "output_type": "stream",
          "text": [
            "Outliers detected in 'user_id':\n",
            "   user_id  frequency  monetary  recency_days\n",
            "4        8          1      9.85             1\n",
            "Outliers detected in 'monetary':\n",
            "   user_id  frequency  monetary  recency_days\n",
            "0        1          2   3376.74             0\n",
            "Outliers detected in 'recency_days':\n",
            "   user_id  frequency  monetary  recency_days\n",
            "0        1          2   3376.74             0\n",
            "Saved transactions.csv, users.csv, user_rfm.csv in ../data\n"
          ]
        }
      ],
      "source": [
        "# Check for outliers\n",
        "for column in rfm.select_dtypes(include=[np.number]).columns:\n",
        "    outliers = detect_outliers_iqr(rfm, column)\n",
        "    if not outliers.empty:\n",
        "        print(f\"Outliers detected in '{column}':\")\n",
        "        print(outliers) \n",
        "\n",
        "# Since the outliers are valid (e.g. high-value customers), we keep them for analysis   \n",
        "\n",
        "# Save curated\n",
        "rfm.to_csv(DATA/\"user_rfm.csv\", index=False)\n",
        "print(\"Saved transactions.csv, users.csv, user_rfm.csv in\", DATA)"
      ]
    },
    {
      "cell_type": "code",
      "execution_count": null,
      "id": "7179977a",
      "metadata": {},
      "outputs": [],
      "source": []
    },
    {
      "cell_type": "code",
      "execution_count": null,
      "id": "85918c17",
      "metadata": {},
      "outputs": [],
      "source": []
    }
  ],
  "metadata": {
    "kernelspec": {
      "display_name": "base",
      "language": "python",
      "name": "python3"
    },
    "language_info": {
      "codemirror_mode": {
        "name": "ipython",
        "version": 3
      },
      "file_extension": ".py",
      "mimetype": "text/x-python",
      "name": "python",
      "nbconvert_exporter": "python",
      "pygments_lexer": "ipython3",
      "version": "3.12.4"
    }
  },
  "nbformat": 4,
  "nbformat_minor": 5
}
