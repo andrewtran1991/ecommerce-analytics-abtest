{
  "cells": [
    {
      "cell_type": "markdown",
      "metadata": {},
      "source": [
        "# 02 · Cleaning & Feature Engineering\n",
        "Normalize JSON, build transactions and RFM features."
      ]
    },
    {
      "cell_type": "code",
      "metadata": {},
      "execution_count": null,
      "outputs": [],
      "source": [
        "import pandas as pd, numpy as np, json, pathlib\n",
        "DATA = pathlib.Path(\"../data\")\n",
        "products = pd.read_csv(DATA/\"products.csv\")\n",
        "users = pd.read_csv(DATA/\"users_raw.csv\")\n",
        "carts = pd.read_csv(DATA/\"carts_raw.csv\")\n",
        "\n",
        "# Normalize users (handles JSON-like strings)\n",
        "def safe_to_json(x):\n",
        "    if isinstance(x, str):\n",
        "        try:\n",
        "            return json.loads(x.replace(\"'\", '\"'))\n",
        "        except Exception:\n",
        "            return None\n",
        "    return x if isinstance(x, dict) else None\n",
        "\n",
        "users_name = users[\"name\"].apply(safe_to_json)\n",
        "users_addr = users[\"address\"].apply(safe_to_json)\n",
        "\n",
        "users_clean = pd.DataFrame({\n",
        "    \"user_id\": users[\"id\"],\n",
        "    \"email\": users.get(\"email\", pd.Series([None]*len(users))),\n",
        "    \"username\": users.get(\"username\", pd.Series([None]*len(users))),\n",
        "    \"firstname\": users_name.apply(lambda d: d.get(\"firstname\") if isinstance(d, dict) else None),\n",
        "    \"lastname\": users_name.apply(lambda d: d.get(\"lastname\") if isinstance(d, dict) else None),\n",
        "    \"city\": users_addr.apply(lambda d: d.get(\"city\") if isinstance(d, dict) else None),\n",
        "    \"zipcode\": users_addr.apply(lambda d: d.get(\"zipcode\") if isinstance(d, dict) else None),\n",
        "})\n",
        "\n",
        "# Explode carts -> transaction lines\n",
        "carts[\"date\"] = pd.to_datetime(carts[\"date\"], errors=\"coerce\")\n",
        "lines = []\n",
        "for _, row in carts.iterrows():\n",
        "    prods = safe_to_json(row[\"products\"])\n",
        "    if isinstance(prods, list):\n",
        "        for it in prods:\n",
        "            lines.append({\n",
        "                \"cart_id\": row[\"id\"],\n",
        "                \"user_id\": row[\"userId\"],\n",
        "                \"date\": row[\"date\"],\n",
        "                \"product_id\": it.get(\"productId\"),\n",
        "                \"quantity\": it.get(\"quantity\", 1)\n",
        "            })\n",
        "tx = pd.DataFrame(lines)\n",
        "\n",
        "# Join price & compute revenue\n",
        "tx = tx.merge(products[[\"id\",\"title\",\"category\",\"price\"]], left_on=\"product_id\", right_on=\"id\", how=\"left\")\n",
        "tx[\"line_revenue\"] = tx[\"quantity\"] * tx[\"price\"]\n",
        "tx = tx.drop(columns=[\"id\"]).sort_values(\"date\")\n",
        "\n",
        "# RFM\n",
        "rfm = (tx.groupby(\"user_id\")\n",
        "         .agg(last_purchase=(\"date\",\"max\"),\n",
        "              frequency=(\"cart_id\",\"nunique\"),\n",
        "              monetary=(\"line_revenue\",\"sum\"))\n",
        "         .reset_index())\n",
        "rfm[\"recency_days\"] = (tx[\"date\"].max() - rfm[\"last_purchase\"]).dt.days\n",
        "rfm = rfm.drop(columns=[\"last_purchase\"])\n",
        "\n",
        "# Save curated\n",
        "tx.to_csv(DATA/\"transactions.csv\", index=False)\n",
        "users_clean.to_csv(DATA/\"users.csv\", index=False)\n",
        "rfm.to_csv(DATA/\"user_rfm.csv\", index=False)\n",
        "print(\"Saved transactions.csv, users.csv, user_rfm.csv in\", DATA)"
      ]
    }
  ],
  "metadata": {
    "kernelspec": {
      "display_name": "Python 3",
      "language": "python",
      "name": "python3"
    },
    "language_info": {
      "name": "python",
      "version": "3.x"
    }
  },
  "nbformat": 4,
  "nbformat_minor": 5
}