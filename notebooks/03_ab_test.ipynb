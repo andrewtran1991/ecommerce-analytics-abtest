{
  "cells": [
    {
      "cell_type": "markdown",
      "metadata": {},
      "source": [
        "# 03 · A/B Test (Simulated)\n",
        "Random assignment, conversion uplift, frequentist tests + bootstrap CI."
      ]
    },
    {
      "cell_type": "code",
      "metadata": {},
      "execution_count": null,
      "outputs": [],
      "source": [
        "import numpy as np, pandas as pd\n",
        "from statsmodels.stats.proportion import proportions_ztest\n",
        "from pathlib import Path\n",
        "DATA = Path(\"../data\")\n",
        "rng = np.random.default_rng(42)\n",
        "\n",
        "tx = pd.read_csv(DATA/\"transactions.csv\", parse_dates=[\"date\"])\n",
        "active_users = tx[\"user_id\"].unique()\n",
        "assign = pd.DataFrame({\"user_id\": active_users})\n",
        "assign[\"variant\"] = rng.choice([\"control\",\"treatment\"], size=len(assign), p=[0.5,0.5])\n",
        "\n",
        "# User-level conversion & AOV in recent window\n",
        "cutoff = tx[\"date\"].max() - pd.Timedelta(days=60)\n",
        "user_level = (tx[tx[\"date\"]>=cutoff]\n",
        "              .groupby(\"user_id\")\n",
        "              .agg(conversion=(\"cart_id\", lambda s: int(s.nunique()>0)),\n",
        "                   aov=(\"line_revenue\", \"mean\"))\n",
        "              .reset_index()).fillna({\"aov\":0.0})\n",
        "df = assign.merge(user_level, on=\"user_id\", how=\"left\").fillna({\"conversion\":0, \"aov\":0.0})\n",
        "\n",
        "# Inject small uplift for demonstration\n",
        "mask = df[\"variant\"].eq(\"treatment\")\n",
        "uplift_rate = 0.10\n",
        "df[\"conversion_sim\"] = df[\"conversion\"].astype(int)\n",
        "flip = (df.loc[mask, \"conversion_sim\"]==0).values\n",
        "df.loc[mask, \"conversion_sim\"] = np.where(flip, rng.binomial(1, uplift_rate, size=flip.sum()), 1)\n",
        "\n",
        "# Two-proportion z-test\n",
        "conv = df.groupby(\"variant\")[\"conversion_sim\"].agg([\"sum\",\"count\"])\n",
        "count = conv[\"sum\"].values\n",
        "nobs = conv[\"count\"].values\n",
        "stat, pval = proportions_ztest(count, nobs, alternative=\"larger\")\n",
        "print({\n",
        "    \"control_cr\": float(count[0]/nobs[0]),\n",
        "    \"treatment_cr\": float(count[1]/nobs[1]),\n",
        "    \"z\": float(stat),\n",
        "    \"p_value\": float(pval)\n",
        "})\n",
        "\n",
        "# Bootstrap 95% CI for uplift\n",
        "def bootstrap_diff(a, b, B=5000, seed=0):\n",
        "    rng = np.random.default_rng(seed)\n",
        "    diffs = []\n",
        "    for _ in range(B):\n",
        "        aa = rng.choice(a, size=a.size, replace=True)\n",
        "        bb = rng.choice(b, size=b.size, replace=True)\n",
        "        diffs.append(bb.mean() - aa.mean())\n",
        "    return np.percentile(diffs, [2.5, 97.5])\n",
        "\n",
        "a = df.loc[df.variant==\"control\", \"conversion_sim\"].values\n",
        "b = df.loc[df.variant==\"treatment\", \"conversion_sim\"].values\n",
        "ci = bootstrap_diff(a, b)\n",
        "print({\"uplift_ci_95\": [float(ci[0]), float(ci[1])]})"
      ]
    }
  ],
  "metadata": {
    "kernelspec": {
      "display_name": "Python 3",
      "language": "python",
      "name": "python3"
    },
    "language_info": {
      "name": "python",
      "version": "3.x"
    }
  },
  "nbformat": 4,
  "nbformat_minor": 5
}