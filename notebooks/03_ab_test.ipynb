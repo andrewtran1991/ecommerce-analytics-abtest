{
  "cells": [
    {
      "cell_type": "markdown",
      "metadata": {},
      "source": [
        "# 03 · A/B Test (Simulated)\n",
        "Random assignment, conversion uplift, frequentist tests + bootstrap CI."
      ]
    },
    {
      "cell_type": "code",
      "execution_count": 5,
      "metadata": {},
      "outputs": [],
      "source": [
        "import numpy as np, pandas as pd\n",
        "from statsmodels.stats.proportion import proportions_ztest\n",
        "from pathlib import Path\n",
        "DATA = Path(\"../data\")\n",
        "rng = np.random.default_rng(42)\n",
        "\n",
        "tx = pd.read_csv(DATA/\"transactions.csv\", parse_dates=[\"date\"])\n",
        "\n",
        "# A list of active users and randomly assign them to control or treatment\n",
        "active_users = tx[\"user_id\"].unique()\n",
        "assign = pd.DataFrame({\"user_id\": active_users})\n",
        "assign[\"variant\"] = rng.choice([\"control\",\"treatment\"], size=len(assign), p=[0.5,0.5])"
      ]
    },
    {
      "cell_type": "code",
      "execution_count": 6,
      "id": "1548d9cf",
      "metadata": {},
      "outputs": [],
      "source": [
        "# User-level conversion & Average Order Value (AOV) in recent window\n",
        "\n",
        "# Define cutoff date (60 days within the latest transaction date)\n",
        "cutoff = tx[\"date\"].max() - pd.Timedelta(days=60)\n",
        "\n",
        "# Filter transactions within the cutoff window\n",
        "user_level = (tx[tx[\"date\"]>=cutoff] \n",
        "              .groupby(\"user_id\") # Group by user\n",
        "              .agg(conversion=(\"cart_id\", lambda s: int(s.nunique()>0)), # 1 if >=1 order, else 0\n",
        "                   aov=(\"line_revenue\", \"mean\")) # Average order value\n",
        "              .reset_index()).fillna({\"aov\":0.0}) # Fill NaN AOV with 0.0\n",
        "\n",
        "# Merge assignment with user-level metrics\n",
        "df = assign.merge(user_level, on=\"user_id\", how=\"left\").fillna({\"conversion\":0, \"aov\":0.0})"
      ]
    },
    {
      "cell_type": "code",
      "execution_count": 7,
      "id": "c0407d9e",
      "metadata": {},
      "outputs": [
        {
          "data": {
            "text/html": [
              "<div>\n",
              "<style scoped>\n",
              "    .dataframe tbody tr th:only-of-type {\n",
              "        vertical-align: middle;\n",
              "    }\n",
              "\n",
              "    .dataframe tbody tr th {\n",
              "        vertical-align: top;\n",
              "    }\n",
              "\n",
              "    .dataframe thead th {\n",
              "        text-align: right;\n",
              "    }\n",
              "</style>\n",
              "<table border=\"1\" class=\"dataframe\">\n",
              "  <thead>\n",
              "    <tr style=\"text-align: right;\">\n",
              "      <th></th>\n",
              "      <th>user_id</th>\n",
              "      <th>variant</th>\n",
              "      <th>conversion</th>\n",
              "      <th>aov</th>\n",
              "    </tr>\n",
              "  </thead>\n",
              "  <tbody>\n",
              "    <tr>\n",
              "      <th>0</th>\n",
              "      <td>3</td>\n",
              "      <td>treatment</td>\n",
              "      <td>1</td>\n",
              "      <td>10.49</td>\n",
              "    </tr>\n",
              "    <tr>\n",
              "      <th>1</th>\n",
              "      <td>1</td>\n",
              "      <td>control</td>\n",
              "      <td>1</td>\n",
              "      <td>562.79</td>\n",
              "    </tr>\n",
              "    <tr>\n",
              "      <th>2</th>\n",
              "      <td>2</td>\n",
              "      <td>treatment</td>\n",
              "      <td>1</td>\n",
              "      <td>141.95</td>\n",
              "    </tr>\n",
              "    <tr>\n",
              "      <th>3</th>\n",
              "      <td>4</td>\n",
              "      <td>treatment</td>\n",
              "      <td>1</td>\n",
              "      <td>280.00</td>\n",
              "    </tr>\n",
              "    <tr>\n",
              "      <th>4</th>\n",
              "      <td>8</td>\n",
              "      <td>control</td>\n",
              "      <td>1</td>\n",
              "      <td>9.85</td>\n",
              "    </tr>\n",
              "  </tbody>\n",
              "</table>\n",
              "</div>"
            ],
            "text/plain": [
              "   user_id    variant  conversion     aov\n",
              "0        3  treatment           1   10.49\n",
              "1        1    control           1  562.79\n",
              "2        2  treatment           1  141.95\n",
              "3        4  treatment           1  280.00\n",
              "4        8    control           1    9.85"
            ]
          },
          "execution_count": 7,
          "metadata": {},
          "output_type": "execute_result"
        }
      ],
      "source": [
        "df.head()"
      ]
    },
    {
      "cell_type": "code",
      "execution_count": null,
      "id": "0dfc3cc4",
      "metadata": {},
      "outputs": [],
      "source": [
        "# Inject small uplift for demonstration\n",
        "mask = df[\"variant\"].eq(\"treatment\")\n",
        "uplift_rate = 0.10\n",
        "df[\"conversion_sim\"] = df[\"conversion\"].astype(int)\n",
        "flip = (df.loc[mask, \"conversion_sim\"]==0).values\n",
        "df.loc[mask, \"conversion_sim\"] = np.where(flip, rng.binomial(1, uplift_rate, size=flip.sum()), 1)\n",
        "\n",
        "# Two-proportion z-test\n",
        "conv = df.groupby(\"variant\")[\"conversion_sim\"].agg([\"sum\",\"count\"])\n",
        "count = conv[\"sum\"].values\n",
        "nobs = conv[\"count\"].values\n",
        "stat, pval = proportions_ztest(count, nobs, alternative=\"larger\")\n",
        "print({\n",
        "    \"control_cr\": float(count[0]/nobs[0]),\n",
        "    \"treatment_cr\": float(count[1]/nobs[1]),\n",
        "    \"z\": float(stat),\n",
        "    \"p_value\": float(pval)\n",
        "})\n",
        "\n",
        "# Bootstrap 95% CI for uplift\n",
        "def bootstrap_diff(a, b, B=5000, seed=0):\n",
        "    rng = np.random.default_rng(seed)\n",
        "    diffs = []\n",
        "    for _ in range(B):\n",
        "        aa = rng.choice(a, size=a.size, replace=True)\n",
        "        bb = rng.choice(b, size=b.size, replace=True)\n",
        "        diffs.append(bb.mean() - aa.mean())\n",
        "    return np.percentile(diffs, [2.5, 97.5])\n",
        "\n",
        "a = df.loc[df.variant==\"control\", \"conversion_sim\"].values\n",
        "b = df.loc[df.variant==\"treatment\", \"conversion_sim\"].values\n",
        "ci = bootstrap_diff(a, b)\n",
        "print({\"uplift_ci_95\": [float(ci[0]), float(ci[1])]})"
      ]
    },
    {
      "cell_type": "code",
      "execution_count": null,
      "id": "e398dde2",
      "metadata": {},
      "outputs": [],
      "source": []
    },
    {
      "cell_type": "code",
      "execution_count": null,
      "id": "c92e4e42",
      "metadata": {},
      "outputs": [],
      "source": []
    }
  ],
  "metadata": {
    "kernelspec": {
      "display_name": "base",
      "language": "python",
      "name": "python3"
    },
    "language_info": {
      "codemirror_mode": {
        "name": "ipython",
        "version": 3
      },
      "file_extension": ".py",
      "mimetype": "text/x-python",
      "name": "python",
      "nbconvert_exporter": "python",
      "pygments_lexer": "ipython3",
      "version": "3.12.4"
    }
  },
  "nbformat": 4,
  "nbformat_minor": 5
}
