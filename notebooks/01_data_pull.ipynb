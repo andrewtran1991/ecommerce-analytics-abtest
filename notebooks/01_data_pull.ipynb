{
  "cells": [
    {
      "cell_type": "markdown",
      "metadata": {},
      "source": [
        "# 01 · Data Pull (Fake Store API)\n",
        "Fetch products, users, carts and save to CSV."
      ]
    },
    {
      "cell_type": "code",
      "execution_count": 19,
      "metadata": {},
      "outputs": [
        {
          "name": "stdout",
          "output_type": "stream",
          "text": [
            "Saved products, users_raw, carts_raw, categories to ../data\n"
          ]
        }
      ],
      "source": [
        "import requests, pandas as pd, pathlib\n",
        "BASE = \"https://fakestoreapi.com\"\n",
        "OUT = pathlib.Path(\"../data\"); OUT.mkdir(parents=True, exist_ok=True)\n",
        "\n",
        "def fetch(path: str):\n",
        "    r = requests.get(f\"{BASE}{path}\", timeout=30)\n",
        "    r.raise_for_status()\n",
        "    return r.json()\n",
        "\n",
        "products = pd.DataFrame(fetch(\"/products\"))\n",
        "categories = pd.Series(fetch(\"/products/categories\"), name=\"category\")\n",
        "users = pd.DataFrame(fetch(\"/users\"))\n",
        "carts = pd.DataFrame(fetch(\"/carts\"))\n",
        "\n",
        "products.to_csv(OUT/\"products.csv\", index=False)\n",
        "users.to_csv(OUT/\"users_raw.csv\", index=False)\n",
        "carts.to_csv(OUT/\"carts_raw.csv\", index=False)\n",
        "pd.DataFrame(categories).to_csv(OUT/\"categories.csv\", index=False)\n",
        "print(\"Saved products, users_raw, carts_raw, categories to\", OUT)"
      ]
    },
    {
      "cell_type": "code",
      "execution_count": null,
      "id": "847101e1",
      "metadata": {},
      "outputs": [],
      "source": [
        "##### Cleaning carts table #####\n",
        "\n",
        "# Since column '__v' has zero variation, we drop the column\n",
        "carts['__v'].unique()\n",
        "carts.drop(columns=\"__v\", inplace=True)\n",
        "\n",
        "# The 'products' column contains a list of dictionaries, we need to explode it into multiple rows\n",
        "# Each dictionary has 'productId' and 'quantity' keys, we will split them into separate columns\n",
        "# After exploding, we will have multiple rows for each cartId, one for each product in the cart\n",
        "# Finally, we rename the columns to be more descriptive\n",
        "carts_exploded = carts.explode('products')\n",
        "carts_exploded = pd.concat([carts_exploded.drop(['products'], axis=1), carts_exploded['products'].apply(pd.Series)], axis=1)\n",
        "carts_exploded.rename(columns={\"productId\": \"product_id\", \"quantity\": \"product_quantity\"}, inplace=True)\n",
        "carts_exploded.to_csv(OUT/\"carts.csv\", index=False) # Save the cleaned carts table\n"
      ]
    },
    {
      "cell_type": "code",
      "execution_count": null,
      "id": "8873422e",
      "metadata": {},
      "outputs": [],
      "source": [
        "##### Cleaning users table #####\n",
        "\n",
        "# Check column '__v' and drop it since it has zero variation\n",
        "users['__v'].unique()\n",
        "users.drop(columns=\"__v\", inplace=True)\n",
        "\n",
        "# explore 'name' column into 'firstname' and 'lastname'\n",
        "users_exploded = pd.concat([users.drop(['name'], axis=1), users['name'].apply(pd.Series)], axis=1)\n",
        "users_exploded.rename(columns={\"firstname\": \"first_name\", \"lastname\": \"last_name\"}, inplace=True)\n",
        "\n",
        "# explode 'address' column into separate columns\n",
        "users_exploded = pd.concat([users_exploded.drop(['address'], axis=1), users_exploded['address'].apply(pd.Series)], axis=1)\n",
        "users_exploded.to_csv(OUT/\"users.csv\", index=False)\n"
      ]
    }
  ],
  "metadata": {
    "kernelspec": {
      "display_name": "base",
      "language": "python",
      "name": "python3"
    },
    "language_info": {
      "codemirror_mode": {
        "name": "ipython",
        "version": 3
      },
      "file_extension": ".py",
      "mimetype": "text/x-python",
      "name": "python",
      "nbconvert_exporter": "python",
      "pygments_lexer": "ipython3",
      "version": "3.12.4"
    }
  },
  "nbformat": 4,
  "nbformat_minor": 5
}
