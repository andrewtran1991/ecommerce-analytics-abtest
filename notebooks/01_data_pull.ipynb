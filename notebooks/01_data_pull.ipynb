{
  "cells": [
    {
      "cell_type": "markdown",
      "metadata": {},
      "source": [
        "# 01 · Data Pull (Fake Store API)\n",
        "Fetch products, users, carts and save to CSV."
      ]
    },
    {
      "cell_type": "code",
      "execution_count": 2,
      "metadata": {},
      "outputs": [
        {
          "name": "stdout",
          "output_type": "stream",
          "text": [
            "Saved products, users_raw, carts_raw, categories to ../data\n"
          ]
        }
      ],
      "source": [
        "import requests, pandas as pd, pathlib\n",
        "BASE = \"https://fakestoreapi.com\"\n",
        "OUT = pathlib.Path(\"../data\"); OUT.mkdir(parents=True, exist_ok=True)\n",
        "\n",
        "def fetch(path: str):\n",
        "    r = requests.get(f\"{BASE}{path}\", timeout=30)\n",
        "    r.raise_for_status()\n",
        "    return r.json()\n",
        "\n",
        "products = pd.DataFrame(fetch(\"/products\"))\n",
        "categories = pd.Series(fetch(\"/products/categories\"), name=\"category\")\n",
        "users = pd.DataFrame(fetch(\"/users\"))\n",
        "carts = pd.DataFrame(fetch(\"/carts\"))\n",
        "\n",
        "products.to_csv(OUT/\"products.csv\", index=False)\n",
        "users.to_csv(OUT/\"users_raw.csv\", index=False)\n",
        "carts.to_csv(OUT/\"carts_raw.csv\", index=False)\n",
        "pd.DataFrame(categories).to_csv(OUT/\"categories.csv\", index=False)\n",
        "print(\"Saved products, users_raw, carts_raw, categories to\", OUT)"
      ]
    }
  ],
  "metadata": {
    "kernelspec": {
      "display_name": "base",
      "language": "python",
      "name": "python3"
    },
    "language_info": {
      "codemirror_mode": {
        "name": "ipython",
        "version": 3
      },
      "file_extension": ".py",
      "mimetype": "text/x-python",
      "name": "python",
      "nbconvert_exporter": "python",
      "pygments_lexer": "ipython3",
      "version": "3.12.4"
    }
  },
  "nbformat": 4,
  "nbformat_minor": 5
}
